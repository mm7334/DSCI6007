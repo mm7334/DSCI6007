{
 "cells": [
  {
   "cell_type": "code",
   "execution_count": null,
   "metadata": {},
   "outputs": [],
   "source": [
    "from pyspark import SparkContext\n",
    "import numpy as np\n",
    "\n",
    "sc=SparkContext.getOrCreate()\n",
    "lines=sc.textFile(\"s3a://dscifinal2/devicestatus.txt\")"
   ]
  },
  {
   "cell_type": "code",
   "execution_count": null,
   "metadata": {},
   "outputs": [],
   "source": [
    "lines.take(15)"
   ]
  },
  {
   "cell_type": "code",
   "execution_count": null,
   "metadata": {},
   "outputs": [],
   "source": [
    "type(lines)"
   ]
  },
  {
   "cell_type": "code",
   "execution_count": null,
   "metadata": {},
   "outputs": [],
   "source": [
    "lines2 = lines.map(lambda liner: liner.replace(\"|\",\",\"))"
   ]
  },
  {
   "cell_type": "code",
   "execution_count": null,
   "metadata": {},
   "outputs": [],
   "source": [
    "lines2.take(15)"
   ]
  },
  {
   "cell_type": "code",
   "execution_count": null,
   "metadata": {},
   "outputs": [],
   "source": [
    "lines3 = lines2.map(lambda liner: liner.replace(\"/\",\",\"))\n",
    "lines3.take(15)"
   ]
  },
  {
   "cell_type": "code",
   "execution_count": null,
   "metadata": {},
   "outputs": [],
   "source": [
    "splitted=lines3.map(lambda element: element.split(\",\"))\n",
    "splitted.take(15)"
   ]
  },
  {
   "cell_type": "code",
   "execution_count": null,
   "metadata": {},
   "outputs": [],
   "source": [
    "lines4=splitted.map(lambda x: np.asarray(x)[[12,13,0,1,2]]).map(lambda x: x.tolist())\n",
    "lines4.take(15)"
   ]
  },
  {
   "cell_type": "code",
   "execution_count": null,
   "metadata": {},
   "outputs": [],
   "source": [
    "lines4=lines4.filter(lambda x: x[0]!='0').filter(lambda x: x[1]!='0')\n",
    "lines4.take(10)"
   ]
  },
  {
   "cell_type": "code",
   "execution_count": null,
   "metadata": {},
   "outputs": [],
   "source": [
    "#splitting out the manufaturer/model\n",
    "lines5=lines4.map(lambda j: j+j[3].split(\" \")[:2])\n",
    "lines5.take(10)"
   ]
  },
  {
   "cell_type": "code",
   "execution_count": 20,
   "metadata": {},
   "outputs": [
    {
     "data": {
      "text/plain": [
       "[[33.6894754264, -117.543308253],\n",
       " [37.4321088904, -121.485029632],\n",
       " [39.4378908349, -120.938978486],\n",
       " [39.3635186767, -119.400334708],\n",
       " [33.1913581092, -116.448242643],\n",
       " [33.8343543748, -117.330000857],\n",
       " [37.3803954321, -121.840756755],\n",
       " [34.1841062345, -117.9435329],\n",
       " [32.2850556785, -111.819583734],\n",
       " [45.2400522984, -122.377467861]]"
      ]
     },
     "execution_count": 20,
     "metadata": {},
     "output_type": "execute_result"
    }
   ],
   "source": [
    "newnewnew=lines5.map(lambda x: np.asarray(x)[[0,1]]).map(lambda x: x.tolist())\n",
    "newnewnew=newnewnew.map(lambda x: np.asarray(x).astype(np.float)).map(lambda x: x.tolist())\n",
    "\n",
    "newnewnew=newnewnew.map(lambda x: x)\n",
    "newnewnew.take(10)"
   ]
  },
  {
   "cell_type": "code",
   "execution_count": 18,
   "metadata": {},
   "outputs": [],
   "source": [
    "lines5.saveAsTextFile(\"s3a://dscifinal2/devicestatusload.csv\")"
   ]
  },
  {
   "cell_type": "code",
   "execution_count": null,
   "metadata": {},
   "outputs": [],
   "source": []
  },
  {
   "cell_type": "code",
   "execution_count": null,
   "metadata": {},
   "outputs": [],
   "source": []
  },
  {
   "cell_type": "code",
   "execution_count": null,
   "metadata": {},
   "outputs": [],
   "source": []
  },
  {
   "cell_type": "code",
   "execution_count": null,
   "metadata": {},
   "outputs": [],
   "source": []
  },
  {
   "cell_type": "code",
   "execution_count": null,
   "metadata": {},
   "outputs": [],
   "source": [
    "# the code below is scrap"
   ]
  },
  {
   "cell_type": "code",
   "execution_count": null,
   "metadata": {},
   "outputs": [],
   "source": [
    "%%time\n",
    "mykmeans(data1,4,'euclidean')\n",
    "mykmeans(data2,4,'euclidean')\n",
    "mykmeans(data3,4,'euclidean')"
   ]
  },
  {
   "cell_type": "code",
   "execution_count": null,
   "metadata": {},
   "outputs": [],
   "source": [
    "%%time\n",
    "from multiprocessing.pool import ThreadPool\n",
    "\n",
    "# allow up to 3 concurrent threads\n",
    "pool = ThreadPool(3)\n",
    "# each dataset\n",
    "parameters = [ data1, data2, data3]\n",
    "\n",
    "pool.map(lambda dataset: kmeans_cluster(dataset,0.01,euclidean_distance,5), parameters)"
   ]
  },
  {
   "cell_type": "code",
   "execution_count": null,
   "metadata": {},
   "outputs": [],
   "source": [
    "%%time\n",
    "kmeans_cluster(data1,0.01,euclidean_distance,5)\n",
    "kmeans_cluster(data2,0.01,euclidean_distance,5)\n",
    "kmeans_cluster(data3,0.01,euclidean_distance,5)"
   ]
  }
 ],
 "metadata": {
  "kernelspec": {
   "display_name": "Python 2",
   "language": "python",
   "name": "python2"
  },
  "language_info": {
   "codemirror_mode": {
    "name": "ipython",
    "version": 2
   },
   "file_extension": ".py",
   "mimetype": "text/x-python",
   "name": "python",
   "nbconvert_exporter": "python",
   "pygments_lexer": "ipython2",
   "version": "2.7.16"
  }
 },
 "nbformat": 4,
 "nbformat_minor": 2
}
