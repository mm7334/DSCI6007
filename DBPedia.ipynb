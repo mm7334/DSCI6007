{
 "cells": [
  {
   "cell_type": "code",
   "execution_count": 20,
   "metadata": {},
   "outputs": [
    {
     "data": {
      "text/plain": [
       "[u'36.7 3.216666666666667 <http://dbpedia.org/resource/Algeria>',\n",
       " u'42.5 1.5166666666666666 <http://dbpedia.org/resource/Andorra>',\n",
       " u'12.516666666666667 -70.03333333333333 <http://dbpedia.org/resource/Aruba>',\n",
       " u'-8.833333333333334 13.333333333333334 <http://dbpedia.org/resource/Angola>',\n",
       " u'41.333333333333336 19.8 <http://dbpedia.org/resource/Albania>',\n",
       " u'34.53333333333333 69.13333333333334 <http://dbpedia.org/resource/Afghanistan>',\n",
       " u'40.416666666666664 49.833333333333336 <http://dbpedia.org/resource/Azerbaijan>',\n",
       " u'39.93333333333333 32.86666666666667 <http://dbpedia.org/resource/Ankara>',\n",
       " u'52.36666666666667 4.9 <http://dbpedia.org/resource/Amsterdam>',\n",
       " u'50.46 2.13 <http://dbpedia.org/resource/Azincourt>',\n",
       " u'17.116666666666667 -61.85 <http://dbpedia.org/resource/Antigua_and_Barbuda>',\n",
       " u'57.04638888888889 9.919166666666667 <http://dbpedia.org/resource/Aalborg_Municipality__capitalPosition__1>',\n",
       " u'56.15 10.216666666666667 <http://dbpedia.org/resource/Aarhus>',\n",
       " u'34.929 138.601 <http://dbpedia.org/resource/Adelaide>',\n",
       " u'42.03472222222222 -93.62 <http://dbpedia.org/resource/Ames,_Iowa>']"
      ]
     },
     "execution_count": 20,
     "metadata": {},
     "output_type": "execute_result"
    }
   ],
   "source": [
    "from pyspark import SparkContext\n",
    "import numpy as np\n",
    "sc=SparkContext.getOrCreate()\n",
    "lines=sc.textFile(\"s3a://dscifinal2/lat_longs.txt\")\n",
    "lines.take(15)"
   ]
  },
  {
   "cell_type": "code",
   "execution_count": 21,
   "metadata": {},
   "outputs": [
    {
     "data": {
      "text/plain": [
       "[[36.7, 3.216666666666667],\n",
       " [42.5, 1.5166666666666666],\n",
       " [12.516666666666667, -70.03333333333333],\n",
       " [-8.833333333333334, 13.333333333333334],\n",
       " [41.333333333333336, 19.8],\n",
       " [34.53333333333333, 69.13333333333334],\n",
       " [40.416666666666664, 49.833333333333336],\n",
       " [39.93333333333333, 32.86666666666667],\n",
       " [52.36666666666667, 4.9],\n",
       " [50.46, 2.13]]"
      ]
     },
     "execution_count": 21,
     "metadata": {},
     "output_type": "execute_result"
    }
   ],
   "source": [
    "data3=lines.map(lambda element: element.split(\" \"))\n",
    "data3=data3.map(lambda x: np.asarray(x)[[0,1]]).map(lambda x: x.tolist())\n",
    "data3=data3.map(lambda x: np.asarray(x).astype(np.float)).map(lambda x: x.tolist())\n",
    "data3.take(10)"
   ]
  },
  {
   "cell_type": "code",
   "execution_count": 22,
   "metadata": {},
   "outputs": [
    {
     "data": {
      "text/plain": [
       "pyspark.rdd.PipelinedRDD"
      ]
     },
     "execution_count": 22,
     "metadata": {},
     "output_type": "execute_result"
    }
   ],
   "source": [
    "type(data3)"
   ]
  },
  {
   "cell_type": "code",
   "execution_count": 23,
   "metadata": {},
   "outputs": [],
   "source": [
    "data3.saveAsTextFile(\"s3a://dscifinal2/geo_data_cleaned.csv\")"
   ]
  },
  {
   "cell_type": "code",
   "execution_count": null,
   "metadata": {},
   "outputs": [],
   "source": []
  }
 ],
 "metadata": {
  "kernelspec": {
   "display_name": "Python 2",
   "language": "python",
   "name": "python2"
  },
  "language_info": {
   "codemirror_mode": {
    "name": "ipython",
    "version": 2
   },
   "file_extension": ".py",
   "mimetype": "text/x-python",
   "name": "python",
   "nbconvert_exporter": "python",
   "pygments_lexer": "ipython2",
   "version": "2.7.16"
  }
 },
 "nbformat": 4,
 "nbformat_minor": 2
}
